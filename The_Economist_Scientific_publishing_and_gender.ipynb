{
  "nbformat": 4,
  "nbformat_minor": 0,
  "metadata": {
    "colab": {
      "name": "The Economist: Scientific publishing and gender",
      "version": "0.3.2",
      "provenance": [],
      "collapsed_sections": [],
      "include_colab_link": true
    },
    "kernelspec": {
      "name": "python3",
      "display_name": "Python 3"
    }
  },
  "cells": [
    {
      "cell_type": "markdown",
      "metadata": {
        "id": "view-in-github",
        "colab_type": "text"
      },
      "source": [
        "<a href=\"https://colab.research.google.com/github/guilhermesilveira/theeconomist-scientificpublishing-and-gender/blob/master/The_Economist_Scientific_publishing_and_gender.ipynb\" target=\"_parent\"><img src=\"https://colab.research.google.com/assets/colab-badge.svg\" alt=\"Open In Colab\"/></a>"
      ]
    },
    {
      "metadata": {
        "id": "FZfz7yt1Y6e-",
        "colab_type": "text"
      },
      "cell_type": "markdown",
      "source": [
        "# Simple attempt on a Economist graph\n",
        "\n",
        "Sarah Leo, a visual data journalist at The Economist made an amazing post about improvements they could have done to previously published charts. One of the charts is a challenge I tried to address here.\n",
        "\n",
        "The original article: https://medium.economist.com/mistakes-weve-drawn-a-few-8cdd8a42d368\n",
        "\n",
        "My approach is to focus on the main history: gender inequality by country and by area of study. Further improvements can be made on color and so on. Adding a horizontal line at 50 would improve it."
      ]
    },
    {
      "metadata": {
        "id": "nRYarMSDT8hB",
        "colab_type": "code",
        "colab": {}
      },
      "cell_type": "code",
      "source": [
        "column_names = [\"Country\", \"Health sciences\", \"Physical sciences\", \"Engineering\", \"Computer science, maths\", \"% of women inventores\"]\n",
        "\n",
        "data = [\n",
        "[\"Japan\", 0.24, 0.11, 0.11, 0.11, 0.08],\n",
        "[\"Chile\", 0.43, 0.23, 0.22, 0.16, 0.19],\n",
        "[\"United Kingdom\", 0.45, 0.21, 0.22, 0.21, 0.12],\n",
        "[\"United States\", 0.46, 0.2, 0.22, 0.22, 0.14],\n",
        "[\"Mexico\", 0.46, 0.25, 0.26, 0.22, 0.18],\n",
        "[\"Denmark\", 0.47, 0.22, 0.23, 0.18, 0.13],\n",
        "[\"EU28\", 0.48, 0.25, 0.25, 0.22, 0.12],\n",
        "[\"France\", 0.48, 0.24, 0.25, 0.22, 0.17],\n",
        "[\"Canada\", 0.49, 0.21, 0.22, 0.22, 0.13],\n",
        "[\"Australia\", 0.5, 0.23, 0.25, 0.24, 0.12],\n",
        "[\"Brazil\", 0.57, 0.33, 0.32, 0.24, 0.19],\n",
        "[\"Portugal\", 0.57, 0.37, 0.36, 0.27, 0.26]   \n",
        "]"
      ],
      "execution_count": 0,
      "outputs": []
    },
    {
      "metadata": {
        "id": "Kn4UuXzsWRKE",
        "colab_type": "code",
        "colab": {}
      },
      "cell_type": "code",
      "source": [
        "import pandas as pd\n",
        "\n",
        "df = pd.DataFrame(data, columns=column_names)"
      ],
      "execution_count": 0,
      "outputs": []
    },
    {
      "metadata": {
        "id": "x3hP3yo_WvYZ",
        "colab_type": "code",
        "outputId": "4b0b550d-2f5d-4f66-ac71-50b87dc1b02b",
        "colab": {
          "base_uri": "https://localhost:8080/",
          "height": 301
        }
      },
      "cell_type": "code",
      "source": [
        "means_per_country = df.set_index(\"Country\").T.mean()\n",
        "means_per_country_others = (means_per_country.values.sum() - means_per_country[[\"Brazil\", \"Portugal\", \"Japan\"]].values.sum()) / (means_per_country.count()-3) * 100\n",
        "means_per_country_Brazil = means_per_country[[\"Brazil\"]].values.sum() * 100\n",
        "means_per_country_Portugal = means_per_country[[\"Portugal\"]].values.sum() * 100\n",
        "means_per_country_Japan = means_per_country[[\"Japan\"]].values.sum() * 100\n",
        "means_per_country_rebuilt = pd.Series([\n",
        "    means_per_country_Portugal,\n",
        "    means_per_country_Brazil,\n",
        "    means_per_country_others,\n",
        "    means_per_country_Japan\n",
        "], index = [\"Portugal\", \"Brazil\", \"Others\", \"Japan\"])\n",
        "means_per_country_rebuilt.plot(kind='bar');"
      ],
      "execution_count": 0,
      "outputs": [
        {
          "output_type": "display_data",
          "data": {
            "image/png": "[encoded data removed]",
            "text/plain": [
              "<Figure size 432x288 with 1 Axes>"
            ]
          },
          "metadata": {
            "tags": []
          }
        }
      ]
    },
    {
      "metadata": {
        "id": "Vtj-36slXBNO",
        "colab_type": "code",
        "outputId": "96aa9ef9-0072-4897-9d09-50c975c4520b",
        "colab": {
          "base_uri": "https://localhost:8080/",
          "height": 386
        }
      },
      "cell_type": "code",
      "source": [
        "means_per_area = df.mean()\n",
        "means_per_area.plot(kind='bar');"
      ],
      "execution_count": 0,
      "outputs": [
        {
          "output_type": "display_data",
          "data": {
            "image/png": "[encoded data removed]",
            "text/plain": [
              "<Figure size 432x288 with 1 Axes>"
            ]
          },
          "metadata": {
            "tags": []
          }
        }
      ]
    },
    {
      "metadata": {
        "id": "y32Iy5GzYVe2",
        "colab_type": "code",
        "colab": {}
      },
      "cell_type": "code",
      "source": [
        ""
      ],
      "execution_count": 0,
      "outputs": []
    }
  ]
}